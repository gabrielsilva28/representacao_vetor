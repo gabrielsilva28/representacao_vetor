{
  "cells": [
    {
      "cell_type": "code",
      "execution_count": 1,
      "metadata": {
        "colab": {
          "base_uri": "https://localhost:8080/"
        },
        "id": "9aM2uP5iARXv",
        "outputId": "96f3f209-2eab-43c7-c584-86dbc94625d8"
      },
      "outputs": [
        {
          "name": "stderr",
          "output_type": "stream",
          "text": [
            "[nltk_data] Downloading package punkt to /root/nltk_data...\n",
            "[nltk_data]   Unzipping tokenizers/punkt.zip.\n"
          ]
        },
        {
          "data": {
            "text/plain": [
              "True"
            ]
          },
          "execution_count": 1,
          "metadata": {},
          "output_type": "execute_result"
        }
      ],
      "source": [
        "from sklearn.feature_extraction.text import CountVectorizer, TfidfVectorizer\n",
        "from sklearn.feature_extraction.text import TfidfTransformer\n",
        "import math\n",
        "from collections import defaultdict\n",
        "import re\n",
        "import nltk\n",
        "import pandas\n",
        "from nltk.util import ngrams\n",
        "from nltk import FreqDist\n",
        "nltk.download('punkt')"
      ]
    },
    {
      "cell_type": "code",
      "execution_count": 6,
      "metadata": {
        "id": "VNluTQOpAiVV"
      },
      "outputs": [],
      "source": [
        "corpus = [\n",
        "    \"O poeta chegara ao alto da montanha\",\n",
        "    \"E quando ia a descer a vertente do oeste\",\n",
        "    \"Viu uma coisa estranha\",\n",
        "    \"Uma figura má\",\n",
        "    \"Então volvendo o olhar ao subtil ao celeste\",\n",
        "    \"Ao gracioso Ariel que de baixo o acompanha\",\n",
        "    \"Num tom medroso e agreste\",\n",
        "    \"Pergunta o que será\"\n",
        "]"
      ]
    },
    {
      "cell_type": "code",
      "execution_count": null,
      "metadata": {
        "colab": {
          "base_uri": "https://localhost:8080/"
        },
        "id": "SNy0_GLrAkDS",
        "outputId": "2ddfe507-e8f7-482d-b8c6-8221e00ce493"
      },
      "outputs": [],
      "source": [
        "abordagens = {\n",
        "    'Binaria': CountVectorizer(binary=True),\n",
        "    'Contagem': CountVectorizer(),\n",
        "    'Frequência de Termos': TfidfVectorizer(use_idf=False, norm=None),\n",
        "    'TF-IDF': TfidfVectorizer(),\n",
        "    'Bigramas (Frequência de Termos)': CountVectorizer(ngram_range=(2, 2)),\n",
        "    'Trigramas (Frequência de Termos)': CountVectorizer(ngram_range=(3, 3)),\n",
        "}\n",
        "\n",
        "# Vetor que recebe cada abordagem\n",
        "resultados = {}\n",
        "\n",
        "for abordagem, vetorizador in abordagens.items():\n",
        "    #transformar em vetor\n",
        "    matriz_vetores = vetorizador.fit_transform(corpus)\n",
        "    vetor = matriz_vetores.toarray()\n",
        "    print(f\"Abordagem: {abordagem}\")\n",
        "    df = pandas.DataFrame(vetor, columns= vetorizador.get_feature_names_out())\n",
        "    resultados[abordagem] = vetor\n",
        "    print(df)"
      ]
    }
  ],
  "metadata": {
    "colab": {
      "provenance": []
    },
    "kernelspec": {
      "display_name": "Python 3",
      "name": "python3"
    },
    "language_info": {
      "name": "python"
    }
  },
  "nbformat": 4,
  "nbformat_minor": 0
}
